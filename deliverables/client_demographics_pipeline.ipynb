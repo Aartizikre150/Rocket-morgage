{
 "cells": [
  {
   "cell_type": "code",
   "execution_count": 2,
   "metadata": {},
   "outputs": [],
   "source": [
    "import pandas as pd\n",
    "import matplotlib.pyplot as plt"
   ]
  },
  {
   "cell_type": "code",
   "execution_count": 3,
   "metadata": {},
   "outputs": [],
   "source": [
    "assests = pd.read_csv(r\"C:\\Users\\91966\\Desktop\\Rocket Data Challenge\\Assets.csv\")\n",
    "borrowers = pd.read_csv(r\"C:\\Users\\91966\\Desktop\\Rocket Data Challenge\\Borrowers.csv\")\n",
    "CreditReports = pd.read_csv(r\"C:\\Users\\91966\\Desktop\\Rocket Data Challenge\\CreditReports.csv\")\n",
    "incomes = pd.read_csv(r\"C:\\Users\\91966\\Desktop\\Rocket Data Challenge\\Incomes.csv\")\n",
    "liabilities = pd.read_csv(r\"C:\\Users\\91966\\Desktop\\Rocket Data Challenge\\Liabilities.csv\")\n",
    "mortgages = pd.read_csv(r\"C:\\Users\\91966\\Desktop\\Rocket Data Challenge\\Mortgages.csv\")\n"
   ]
  },
  {
   "cell_type": "code",
   "execution_count": 4,
   "metadata": {},
   "outputs": [
    {
     "name": "stdout",
     "output_type": "stream",
     "text": [
      "\n",
      "\n",
      "Description of  assests\n",
      "<class 'pandas.core.frame.DataFrame'>\n",
      "RangeIndex: 60702 entries, 0 to 60701\n",
      "Data columns (total 4 columns):\n",
      " #   Column         Non-Null Count  Dtype  \n",
      "---  ------         --------------  -----  \n",
      " 0   APPLICATIONID  60702 non-null  object \n",
      " 1   ASSET_ID       60702 non-null  object \n",
      " 2   TYPE           60702 non-null  object \n",
      " 3   VALUE          60702 non-null  float64\n",
      "dtypes: float64(1), object(3)\n",
      "memory usage: 1.9+ MB\n",
      "\n",
      "\n",
      "Dimension -  (60702, 4)\n",
      "\n",
      "\n",
      "Null values per column\n",
      " APPLICATIONID    0\n",
      "ASSET_ID         0\n",
      "TYPE             0\n",
      "VALUE            0\n",
      "dtype: int64\n",
      "\n",
      "\n",
      "Unique Applications 19127\n"
     ]
    }
   ],
   "source": [
    "def get_info(df, df_name):    \n",
    "    print(\"\\n\\nDescription of \",df_name)\n",
    "    info = df.info()\n",
    "    print(\"\\n\\nDimension - \",df.shape)\n",
    "    desc = df.describe()\n",
    "    print(\"\\n\\nNull values per column\\n\",df.isnull().sum())\n",
    "    if 'APPLICATIONID' in df.columns:\n",
    "        print(\"\\n\\nUnique Applications\",df['APPLICATIONID'].nunique())\n",
    "\n",
    "get_info(assests, \"assests\")\n"
   ]
  },
  {
   "cell_type": "code",
   "execution_count": 5,
   "metadata": {},
   "outputs": [],
   "source": [
    "# Asset_ID not present in any other table also contains only alpha numeric values so not useful for analysis\n",
    "assests.drop('ASSET_ID', axis=1, inplace=True)"
   ]
  },
  {
   "cell_type": "code",
   "execution_count": 6,
   "metadata": {},
   "outputs": [
    {
     "data": {
      "text/html": [
       "<div>\n",
       "<style scoped>\n",
       "    .dataframe tbody tr th:only-of-type {\n",
       "        vertical-align: middle;\n",
       "    }\n",
       "\n",
       "    .dataframe tbody tr th {\n",
       "        vertical-align: top;\n",
       "    }\n",
       "\n",
       "    .dataframe thead th {\n",
       "        text-align: right;\n",
       "    }\n",
       "</style>\n",
       "<table border=\"1\" class=\"dataframe\">\n",
       "  <thead>\n",
       "    <tr style=\"text-align: right;\">\n",
       "      <th></th>\n",
       "      <th>APPLICATIONID</th>\n",
       "      <th>TYPE</th>\n",
       "      <th>VALUE</th>\n",
       "    </tr>\n",
       "  </thead>\n",
       "  <tbody>\n",
       "    <tr>\n",
       "      <th>0</th>\n",
       "      <td>400ef336-9f32-4b57-bad2-aa0093f58db3</td>\n",
       "      <td>investment</td>\n",
       "      <td>9000.0</td>\n",
       "    </tr>\n",
       "    <tr>\n",
       "      <th>1</th>\n",
       "      <td>16d4a079-dfd8-48a8-90f7-f89e288bc601</td>\n",
       "      <td>vehicle</td>\n",
       "      <td>60000.0</td>\n",
       "    </tr>\n",
       "    <tr>\n",
       "      <th>2</th>\n",
       "      <td>b936c281-64ab-45ab-b9e8-df19895a4bc8</td>\n",
       "      <td>rrsp</td>\n",
       "      <td>243000.0</td>\n",
       "    </tr>\n",
       "    <tr>\n",
       "      <th>3</th>\n",
       "      <td>400ef336-9f32-4b57-bad2-aa0093f58db3</td>\n",
       "      <td>cash_savings</td>\n",
       "      <td>20000.0</td>\n",
       "    </tr>\n",
       "    <tr>\n",
       "      <th>4</th>\n",
       "      <td>400ef336-9f32-4b57-bad2-aa0093f58db3</td>\n",
       "      <td>cash_savings</td>\n",
       "      <td>40000.0</td>\n",
       "    </tr>\n",
       "    <tr>\n",
       "      <th>...</th>\n",
       "      <td>...</td>\n",
       "      <td>...</td>\n",
       "      <td>...</td>\n",
       "    </tr>\n",
       "    <tr>\n",
       "      <th>60697</th>\n",
       "      <td>c925dc43-2801-4365-badf-73c672959352</td>\n",
       "      <td>investment</td>\n",
       "      <td>6600.0</td>\n",
       "    </tr>\n",
       "    <tr>\n",
       "      <th>60698</th>\n",
       "      <td>c925dc43-2801-4365-badf-73c672959352</td>\n",
       "      <td>investment</td>\n",
       "      <td>16428.0</td>\n",
       "    </tr>\n",
       "    <tr>\n",
       "      <th>60699</th>\n",
       "      <td>c925dc43-2801-4365-badf-73c672959352</td>\n",
       "      <td>vehicle</td>\n",
       "      <td>6500.0</td>\n",
       "    </tr>\n",
       "    <tr>\n",
       "      <th>60700</th>\n",
       "      <td>c925dc43-2801-4365-badf-73c672959352</td>\n",
       "      <td>vehicle</td>\n",
       "      <td>17500.0</td>\n",
       "    </tr>\n",
       "    <tr>\n",
       "      <th>60701</th>\n",
       "      <td>1f34fe95-49b8-4d17-8bc2-28b926c0d399</td>\n",
       "      <td>rrsp</td>\n",
       "      <td>14338.0</td>\n",
       "    </tr>\n",
       "  </tbody>\n",
       "</table>\n",
       "<p>60702 rows × 3 columns</p>\n",
       "</div>"
      ],
      "text/plain": [
       "                              APPLICATIONID          TYPE     VALUE\n",
       "0      400ef336-9f32-4b57-bad2-aa0093f58db3    investment    9000.0\n",
       "1      16d4a079-dfd8-48a8-90f7-f89e288bc601       vehicle   60000.0\n",
       "2      b936c281-64ab-45ab-b9e8-df19895a4bc8          rrsp  243000.0\n",
       "3      400ef336-9f32-4b57-bad2-aa0093f58db3  cash_savings   20000.0\n",
       "4      400ef336-9f32-4b57-bad2-aa0093f58db3  cash_savings   40000.0\n",
       "...                                     ...           ...       ...\n",
       "60697  c925dc43-2801-4365-badf-73c672959352    investment    6600.0\n",
       "60698  c925dc43-2801-4365-badf-73c672959352    investment   16428.0\n",
       "60699  c925dc43-2801-4365-badf-73c672959352       vehicle    6500.0\n",
       "60700  c925dc43-2801-4365-badf-73c672959352       vehicle   17500.0\n",
       "60701  1f34fe95-49b8-4d17-8bc2-28b926c0d399          rrsp   14338.0\n",
       "\n",
       "[60702 rows x 3 columns]"
      ]
     },
     "execution_count": 6,
     "metadata": {},
     "output_type": "execute_result"
    }
   ],
   "source": [
    "assests"
   ]
  },
  {
   "cell_type": "code",
   "execution_count": 7,
   "metadata": {},
   "outputs": [
    {
     "name": "stdout",
     "output_type": "stream",
     "text": [
      "Types of assets and it's count owned by client TYPE\n",
      "vehicle          14959\n",
      "cash_checking    12725\n",
      "cash_savings      9324\n",
      "rrsp              9322\n",
      "investment        7900\n",
      "other             4806\n",
      "gift              1666\n",
      "Name: count, dtype: int64\n"
     ]
    }
   ],
   "source": [
    "print(\"Types of assets and it's count owned by client\", assests['TYPE'].value_counts())\n",
    "# RRSP - Registered Retirement Savings Plan"
   ]
  },
  {
   "cell_type": "code",
   "execution_count": 8,
   "metadata": {},
   "outputs": [
    {
     "name": "stdout",
     "output_type": "stream",
     "text": [
      "Minimum  and Max value of Asset 0.01 20000000.0\n"
     ]
    }
   ],
   "source": [
    "# Minimum and Maximum value of assets\n",
    "print(\"Minimum  and Max value of Asset\", min(assests['VALUE']), max(assests['VALUE']))\n"
   ]
  },
  {
   "cell_type": "code",
   "execution_count": 9,
   "metadata": {},
   "outputs": [],
   "source": [
    "# Fetch records where value <=10 , value contains no of assets too which are not as important as count\n",
    "Insignificant_values = assests[assests['VALUE'] <= 10].index\n",
    "assests.drop(Insignificant_values, inplace=True)"
   ]
  },
  {
   "cell_type": "code",
   "execution_count": 10,
   "metadata": {},
   "outputs": [
    {
     "data": {
      "image/png": "[encoded data removed]",
      "text/plain": [
       "<Figure size 1000x600 with 1 Axes>"
      ]
     },
     "metadata": {},
     "output_type": "display_data"
    }
   ],
   "source": [
    "plt.figure(figsize=(10, 6))\n",
    "plt.boxplot(assests['VALUE'], vert=False)\n",
    "plt.title('Box Plot of Asset Values')\n",
    "plt.xlabel('Value')\n",
    "plt.ylabel('Asset Value')  # Added label for the Y axis\n",
    "plt.xscale('log')  # Logarithmic scale for better visualization\n",
    "# Setting custom ticks on the X axis to represent monetary values\n",
    "plt.xticks([10, 100, 1000, 10000, 100000, 1000000, 10000000],\n",
    "           ['$10', '$100', '$1k', '$10k', '$100K', '$1 Million', '$10 Million'])\n",
    "plt.show()\n"
   ]
  },
  {
   "cell_type": "markdown",
   "metadata": {},
   "source": [
    "\n",
    "### Borrowers"
   ]
  },
  {
   "cell_type": "code",
   "execution_count": 11,
   "metadata": {},
   "outputs": [
    {
     "data": {
      "text/html": [
       "<div>\n",
       "<style scoped>\n",
       "    .dataframe tbody tr th:only-of-type {\n",
       "        vertical-align: middle;\n",
       "    }\n",
       "\n",
       "    .dataframe tbody tr th {\n",
       "        vertical-align: top;\n",
       "    }\n",
       "\n",
       "    .dataframe thead th {\n",
       "        text-align: right;\n",
       "    }\n",
       "</style>\n",
       "<table border=\"1\" class=\"dataframe\">\n",
       "  <thead>\n",
       "    <tr style=\"text-align: right;\">\n",
       "      <th></th>\n",
       "      <th>APPLICATIONID</th>\n",
       "      <th>DEPENDENTS</th>\n",
       "      <th>FIRSTTIME</th>\n",
       "      <th>BORROWER_ID</th>\n",
       "      <th>INCLUDERENTALAMOUNTMONTHLYTDS</th>\n",
       "      <th>ISHIDDEN</th>\n",
       "      <th>ISMAINBORROWER</th>\n",
       "      <th>MARITAL</th>\n",
       "      <th>RELATIONSHIPTOMAINBORROWER</th>\n",
       "      <th>RENTALAMOUNTMONTHLY</th>\n",
       "    </tr>\n",
       "  </thead>\n",
       "  <tbody>\n",
       "    <tr>\n",
       "      <th>0</th>\n",
       "      <td>7fd3c8b1-bfe2-4ee5-9e45-1b3512e81e4b</td>\n",
       "      <td>NaN</td>\n",
       "      <td>NaN</td>\n",
       "      <td>4050056a-2897-4587-8e90-7dd4cb49cec6</td>\n",
       "      <td>NaN</td>\n",
       "      <td>False</td>\n",
       "      <td>True</td>\n",
       "      <td>NaN</td>\n",
       "      <td>NaN</td>\n",
       "      <td>NaN</td>\n",
       "    </tr>\n",
       "    <tr>\n",
       "      <th>1</th>\n",
       "      <td>94ae848b-cafb-4464-b545-1957b0c2f713</td>\n",
       "      <td>0.0</td>\n",
       "      <td>NaN</td>\n",
       "      <td>a992d0ef-6099-4bb1-bf9d-bc6037e7138c</td>\n",
       "      <td>NaN</td>\n",
       "      <td>False</td>\n",
       "      <td>True</td>\n",
       "      <td>widowed</td>\n",
       "      <td>NaN</td>\n",
       "      <td>NaN</td>\n",
       "    </tr>\n",
       "    <tr>\n",
       "      <th>2</th>\n",
       "      <td>e6c15716-f72c-4dcf-a095-30e3da06d3a0</td>\n",
       "      <td>0.0</td>\n",
       "      <td>NaN</td>\n",
       "      <td>1bc0442b-d7e9-4c71-8126-c9734b187f9b</td>\n",
       "      <td>NaN</td>\n",
       "      <td>False</td>\n",
       "      <td>True</td>\n",
       "      <td>married</td>\n",
       "      <td>NaN</td>\n",
       "      <td>NaN</td>\n",
       "    </tr>\n",
       "    <tr>\n",
       "      <th>3</th>\n",
       "      <td>e18bcfe8-b6e8-4636-8937-8360e69d822f</td>\n",
       "      <td>NaN</td>\n",
       "      <td>NaN</td>\n",
       "      <td>a45fe05c-07b8-499f-8746-2cc2634dd864</td>\n",
       "      <td>NaN</td>\n",
       "      <td>False</td>\n",
       "      <td>True</td>\n",
       "      <td>NaN</td>\n",
       "      <td>NaN</td>\n",
       "      <td>NaN</td>\n",
       "    </tr>\n",
       "    <tr>\n",
       "      <th>4</th>\n",
       "      <td>ace015ef-cc39-45af-9cdd-fa855edc935a</td>\n",
       "      <td>NaN</td>\n",
       "      <td>NaN</td>\n",
       "      <td>26a89b13-7b68-4a12-a539-12c5b4538b75</td>\n",
       "      <td>NaN</td>\n",
       "      <td>False</td>\n",
       "      <td>True</td>\n",
       "      <td>NaN</td>\n",
       "      <td>NaN</td>\n",
       "      <td>NaN</td>\n",
       "    </tr>\n",
       "    <tr>\n",
       "      <th>...</th>\n",
       "      <td>...</td>\n",
       "      <td>...</td>\n",
       "      <td>...</td>\n",
       "      <td>...</td>\n",
       "      <td>...</td>\n",
       "      <td>...</td>\n",
       "      <td>...</td>\n",
       "      <td>...</td>\n",
       "      <td>...</td>\n",
       "      <td>...</td>\n",
       "    </tr>\n",
       "    <tr>\n",
       "      <th>80877</th>\n",
       "      <td>36f75297-2985-43c3-991d-a0b4b4e1e814</td>\n",
       "      <td>1.0</td>\n",
       "      <td>True</td>\n",
       "      <td>951d87c2-b5b7-426c-a612-996550697073</td>\n",
       "      <td>False</td>\n",
       "      <td>False</td>\n",
       "      <td>False</td>\n",
       "      <td>married</td>\n",
       "      <td>spouse</td>\n",
       "      <td>600.0</td>\n",
       "    </tr>\n",
       "    <tr>\n",
       "      <th>80878</th>\n",
       "      <td>36f75297-2985-43c3-991d-a0b4b4e1e814</td>\n",
       "      <td>1.0</td>\n",
       "      <td>True</td>\n",
       "      <td>43229fe0-3f3d-4b7a-82de-80a6f793a884</td>\n",
       "      <td>False</td>\n",
       "      <td>False</td>\n",
       "      <td>True</td>\n",
       "      <td>married</td>\n",
       "      <td>NaN</td>\n",
       "      <td>600.0</td>\n",
       "    </tr>\n",
       "    <tr>\n",
       "      <th>80879</th>\n",
       "      <td>c925dc43-2801-4365-badf-73c672959352</td>\n",
       "      <td>NaN</td>\n",
       "      <td>True</td>\n",
       "      <td>6f50edd5-c0ad-461b-9715-b24dab9109c1</td>\n",
       "      <td>NaN</td>\n",
       "      <td>False</td>\n",
       "      <td>True</td>\n",
       "      <td>single</td>\n",
       "      <td>NaN</td>\n",
       "      <td>NaN</td>\n",
       "    </tr>\n",
       "    <tr>\n",
       "      <th>80880</th>\n",
       "      <td>1f34fe95-49b8-4d17-8bc2-28b926c0d399</td>\n",
       "      <td>0.0</td>\n",
       "      <td>True</td>\n",
       "      <td>f35b4788-a661-4511-b634-b1d6f94b395c</td>\n",
       "      <td>False</td>\n",
       "      <td>False</td>\n",
       "      <td>False</td>\n",
       "      <td>married</td>\n",
       "      <td>spouse</td>\n",
       "      <td>1.0</td>\n",
       "    </tr>\n",
       "    <tr>\n",
       "      <th>80881</th>\n",
       "      <td>ac3c7a80-a6c2-419c-bf41-492a79fc8c7c</td>\n",
       "      <td>0.0</td>\n",
       "      <td>NaN</td>\n",
       "      <td>5b97e068-1f48-4ade-8422-d113f6bf6b5d</td>\n",
       "      <td>NaN</td>\n",
       "      <td>False</td>\n",
       "      <td>True</td>\n",
       "      <td>single</td>\n",
       "      <td>NaN</td>\n",
       "      <td>NaN</td>\n",
       "    </tr>\n",
       "  </tbody>\n",
       "</table>\n",
       "<p>80882 rows × 10 columns</p>\n",
       "</div>"
      ],
      "text/plain": [
       "                              APPLICATIONID  DEPENDENTS FIRSTTIME   \n",
       "0      7fd3c8b1-bfe2-4ee5-9e45-1b3512e81e4b         NaN       NaN  \\\n",
       "1      94ae848b-cafb-4464-b545-1957b0c2f713         0.0       NaN   \n",
       "2      e6c15716-f72c-4dcf-a095-30e3da06d3a0         0.0       NaN   \n",
       "3      e18bcfe8-b6e8-4636-8937-8360e69d822f         NaN       NaN   \n",
       "4      ace015ef-cc39-45af-9cdd-fa855edc935a         NaN       NaN   \n",
       "...                                     ...         ...       ...   \n",
       "80877  36f75297-2985-43c3-991d-a0b4b4e1e814         1.0      True   \n",
       "80878  36f75297-2985-43c3-991d-a0b4b4e1e814         1.0      True   \n",
       "80879  c925dc43-2801-4365-badf-73c672959352         NaN      True   \n",
       "80880  1f34fe95-49b8-4d17-8bc2-28b926c0d399         0.0      True   \n",
       "80881  ac3c7a80-a6c2-419c-bf41-492a79fc8c7c         0.0       NaN   \n",
       "\n",
       "                                BORROWER_ID INCLUDERENTALAMOUNTMONTHLYTDS   \n",
       "0      4050056a-2897-4587-8e90-7dd4cb49cec6                           NaN  \\\n",
       "1      a992d0ef-6099-4bb1-bf9d-bc6037e7138c                           NaN   \n",
       "2      1bc0442b-d7e9-4c71-8126-c9734b187f9b                           NaN   \n",
       "3      a45fe05c-07b8-499f-8746-2cc2634dd864                           NaN   \n",
       "4      26a89b13-7b68-4a12-a539-12c5b4538b75                           NaN   \n",
       "...                                     ...                           ...   \n",
       "80877  951d87c2-b5b7-426c-a612-996550697073                         False   \n",
       "80878  43229fe0-3f3d-4b7a-82de-80a6f793a884                         False   \n",
       "80879  6f50edd5-c0ad-461b-9715-b24dab9109c1                           NaN   \n",
       "80880  f35b4788-a661-4511-b634-b1d6f94b395c                         False   \n",
       "80881  5b97e068-1f48-4ade-8422-d113f6bf6b5d                           NaN   \n",
       "\n",
       "       ISHIDDEN  ISMAINBORROWER  MARITAL RELATIONSHIPTOMAINBORROWER   \n",
       "0         False            True      NaN                        NaN  \\\n",
       "1         False            True  widowed                        NaN   \n",
       "2         False            True  married                        NaN   \n",
       "3         False            True      NaN                        NaN   \n",
       "4         False            True      NaN                        NaN   \n",
       "...         ...             ...      ...                        ...   \n",
       "80877     False           False  married                     spouse   \n",
       "80878     False            True  married                        NaN   \n",
       "80879     False            True   single                        NaN   \n",
       "80880     False           False  married                     spouse   \n",
       "80881     False            True   single                        NaN   \n",
       "\n",
       "       RENTALAMOUNTMONTHLY  \n",
       "0                      NaN  \n",
       "1                      NaN  \n",
       "2                      NaN  \n",
       "3                      NaN  \n",
       "4                      NaN  \n",
       "...                    ...  \n",
       "80877                600.0  \n",
       "80878                600.0  \n",
       "80879                  NaN  \n",
       "80880                  1.0  \n",
       "80881                  NaN  \n",
       "\n",
       "[80882 rows x 10 columns]"
      ]
     },
     "execution_count": 11,
     "metadata": {},
     "output_type": "execute_result"
    }
   ],
   "source": [
    "borrowers\n"
   ]
  },
  {
   "cell_type": "markdown",
   "metadata": {},
   "source": [
    "TDS - Tax deduction at souce"
   ]
  },
  {
   "cell_type": "code",
   "execution_count": 12,
   "metadata": {},
   "outputs": [
    {
     "name": "stdout",
     "output_type": "stream",
     "text": [
      "\n",
      "\n",
      "Description of  borrowers\n",
      "<class 'pandas.core.frame.DataFrame'>\n",
      "RangeIndex: 80882 entries, 0 to 80881\n",
      "Data columns (total 10 columns):\n",
      " #   Column                         Non-Null Count  Dtype  \n",
      "---  ------                         --------------  -----  \n",
      " 0   APPLICATIONID                  80882 non-null  object \n",
      " 1   DEPENDENTS                     46356 non-null  float64\n",
      " 2   FIRSTTIME                      26149 non-null  object \n",
      " 3   BORROWER_ID                    80882 non-null  object \n",
      " 4   INCLUDERENTALAMOUNTMONTHLYTDS  2129 non-null   object \n",
      " 5   ISHIDDEN                       80882 non-null  bool   \n",
      " 6   ISMAINBORROWER                 80882 non-null  bool   \n",
      " 7   MARITAL                        53057 non-null  object \n",
      " 8   RELATIONSHIPTOMAINBORROWER     15973 non-null  object \n",
      " 9   RENTALAMOUNTMONTHLY            9988 non-null   float64\n",
      "dtypes: bool(2), float64(2), object(6)\n",
      "memory usage: 5.1+ MB\n",
      "\n",
      "\n",
      "Dimension -  (80882, 10)\n",
      "\n",
      "\n",
      "Null values per column\n",
      " APPLICATIONID                        0\n",
      "DEPENDENTS                       34526\n",
      "FIRSTTIME                        54733\n",
      "BORROWER_ID                          0\n",
      "INCLUDERENTALAMOUNTMONTHLYTDS    78753\n",
      "ISHIDDEN                             0\n",
      "ISMAINBORROWER                       0\n",
      "MARITAL                          27825\n",
      "RELATIONSHIPTOMAINBORROWER       64909\n",
      "RENTALAMOUNTMONTHLY              70894\n",
      "dtype: int64\n",
      "\n",
      "\n",
      "Unique Applications 60171\n"
     ]
    }
   ],
   "source": [
    "get_info(borrowers, \"borrowers\")"
   ]
  },
  {
   "cell_type": "code",
   "execution_count": 13,
   "metadata": {},
   "outputs": [
    {
     "data": {
      "text/html": [
       "<div>\n",
       "<style scoped>\n",
       "    .dataframe tbody tr th:only-of-type {\n",
       "        vertical-align: middle;\n",
       "    }\n",
       "\n",
       "    .dataframe tbody tr th {\n",
       "        vertical-align: top;\n",
       "    }\n",
       "\n",
       "    .dataframe thead th {\n",
       "        text-align: right;\n",
       "    }\n",
       "</style>\n",
       "<table border=\"1\" class=\"dataframe\">\n",
       "  <thead>\n",
       "    <tr style=\"text-align: right;\">\n",
       "      <th></th>\n",
       "      <th>APPLICATIONID</th>\n",
       "      <th>DEPENDENTS</th>\n",
       "      <th>FIRSTTIME</th>\n",
       "      <th>BORROWER_ID</th>\n",
       "      <th>INCLUDERENTALAMOUNTMONTHLYTDS</th>\n",
       "      <th>ISHIDDEN</th>\n",
       "      <th>ISMAINBORROWER</th>\n",
       "      <th>MARITAL</th>\n",
       "      <th>RELATIONSHIPTOMAINBORROWER</th>\n",
       "      <th>RENTALAMOUNTMONTHLY</th>\n",
       "    </tr>\n",
       "  </thead>\n",
       "  <tbody>\n",
       "    <tr>\n",
       "      <th>0</th>\n",
       "      <td>7fd3c8b1-bfe2-4ee5-9e45-1b3512e81e4b</td>\n",
       "      <td>NaN</td>\n",
       "      <td>NaN</td>\n",
       "      <td>4050056a-2897-4587-8e90-7dd4cb49cec6</td>\n",
       "      <td>NaN</td>\n",
       "      <td>False</td>\n",
       "      <td>True</td>\n",
       "      <td>NaN</td>\n",
       "      <td>NaN</td>\n",
       "      <td>NaN</td>\n",
       "    </tr>\n",
       "    <tr>\n",
       "      <th>3</th>\n",
       "      <td>e18bcfe8-b6e8-4636-8937-8360e69d822f</td>\n",
       "      <td>NaN</td>\n",
       "      <td>NaN</td>\n",
       "      <td>a45fe05c-07b8-499f-8746-2cc2634dd864</td>\n",
       "      <td>NaN</td>\n",
       "      <td>False</td>\n",
       "      <td>True</td>\n",
       "      <td>NaN</td>\n",
       "      <td>NaN</td>\n",
       "      <td>NaN</td>\n",
       "    </tr>\n",
       "    <tr>\n",
       "      <th>4</th>\n",
       "      <td>ace015ef-cc39-45af-9cdd-fa855edc935a</td>\n",
       "      <td>NaN</td>\n",
       "      <td>NaN</td>\n",
       "      <td>26a89b13-7b68-4a12-a539-12c5b4538b75</td>\n",
       "      <td>NaN</td>\n",
       "      <td>False</td>\n",
       "      <td>True</td>\n",
       "      <td>NaN</td>\n",
       "      <td>NaN</td>\n",
       "      <td>NaN</td>\n",
       "    </tr>\n",
       "    <tr>\n",
       "      <th>5</th>\n",
       "      <td>27c783e3-797c-4ab7-9359-9c3c10a649f4</td>\n",
       "      <td>NaN</td>\n",
       "      <td>NaN</td>\n",
       "      <td>329af794-9997-4d21-95db-863080582826</td>\n",
       "      <td>NaN</td>\n",
       "      <td>False</td>\n",
       "      <td>True</td>\n",
       "      <td>NaN</td>\n",
       "      <td>NaN</td>\n",
       "      <td>NaN</td>\n",
       "    </tr>\n",
       "    <tr>\n",
       "      <th>6</th>\n",
       "      <td>0ed0b59b-a799-4503-87bb-fb9723c4633d</td>\n",
       "      <td>NaN</td>\n",
       "      <td>NaN</td>\n",
       "      <td>de2c739a-b3e0-4712-80d0-427ec9cd553a</td>\n",
       "      <td>NaN</td>\n",
       "      <td>False</td>\n",
       "      <td>True</td>\n",
       "      <td>NaN</td>\n",
       "      <td>NaN</td>\n",
       "      <td>NaN</td>\n",
       "    </tr>\n",
       "    <tr>\n",
       "      <th>...</th>\n",
       "      <td>...</td>\n",
       "      <td>...</td>\n",
       "      <td>...</td>\n",
       "      <td>...</td>\n",
       "      <td>...</td>\n",
       "      <td>...</td>\n",
       "      <td>...</td>\n",
       "      <td>...</td>\n",
       "      <td>...</td>\n",
       "      <td>...</td>\n",
       "    </tr>\n",
       "    <tr>\n",
       "      <th>80827</th>\n",
       "      <td>afd0ebd8-de8c-41b4-8a40-037538f6c003</td>\n",
       "      <td>NaN</td>\n",
       "      <td>NaN</td>\n",
       "      <td>f4e353ae-f1bf-400d-8504-f1aed20bc873</td>\n",
       "      <td>NaN</td>\n",
       "      <td>False</td>\n",
       "      <td>True</td>\n",
       "      <td>married</td>\n",
       "      <td>NaN</td>\n",
       "      <td>NaN</td>\n",
       "    </tr>\n",
       "    <tr>\n",
       "      <th>80836</th>\n",
       "      <td>0375346f-a8d5-4ca3-8502-8846cc333d67</td>\n",
       "      <td>NaN</td>\n",
       "      <td>True</td>\n",
       "      <td>a19c1a0a-b0cc-41dd-b977-d4b4c1d76128</td>\n",
       "      <td>NaN</td>\n",
       "      <td>False</td>\n",
       "      <td>True</td>\n",
       "      <td>married</td>\n",
       "      <td>NaN</td>\n",
       "      <td>1800.0</td>\n",
       "    </tr>\n",
       "    <tr>\n",
       "      <th>80863</th>\n",
       "      <td>db54d3ea-b0a3-4d00-b33c-bbb63a5bf571</td>\n",
       "      <td>NaN</td>\n",
       "      <td>NaN</td>\n",
       "      <td>42daeb84-c6e4-451d-bc3e-96adb3916e62</td>\n",
       "      <td>NaN</td>\n",
       "      <td>False</td>\n",
       "      <td>True</td>\n",
       "      <td>married</td>\n",
       "      <td>NaN</td>\n",
       "      <td>NaN</td>\n",
       "    </tr>\n",
       "    <tr>\n",
       "      <th>80864</th>\n",
       "      <td>db54d3ea-b0a3-4d00-b33c-bbb63a5bf571</td>\n",
       "      <td>NaN</td>\n",
       "      <td>NaN</td>\n",
       "      <td>7c21cdf3-2ad6-40c6-898a-f7d7557f888a</td>\n",
       "      <td>NaN</td>\n",
       "      <td>False</td>\n",
       "      <td>False</td>\n",
       "      <td>married</td>\n",
       "      <td>spouse</td>\n",
       "      <td>NaN</td>\n",
       "    </tr>\n",
       "    <tr>\n",
       "      <th>80879</th>\n",
       "      <td>c925dc43-2801-4365-badf-73c672959352</td>\n",
       "      <td>NaN</td>\n",
       "      <td>True</td>\n",
       "      <td>6f50edd5-c0ad-461b-9715-b24dab9109c1</td>\n",
       "      <td>NaN</td>\n",
       "      <td>False</td>\n",
       "      <td>True</td>\n",
       "      <td>single</td>\n",
       "      <td>NaN</td>\n",
       "      <td>NaN</td>\n",
       "    </tr>\n",
       "  </tbody>\n",
       "</table>\n",
       "<p>34526 rows × 10 columns</p>\n",
       "</div>"
      ],
      "text/plain": [
       "                              APPLICATIONID  DEPENDENTS FIRSTTIME   \n",
       "0      7fd3c8b1-bfe2-4ee5-9e45-1b3512e81e4b         NaN       NaN  \\\n",
       "3      e18bcfe8-b6e8-4636-8937-8360e69d822f         NaN       NaN   \n",
       "4      ace015ef-cc39-45af-9cdd-fa855edc935a         NaN       NaN   \n",
       "5      27c783e3-797c-4ab7-9359-9c3c10a649f4         NaN       NaN   \n",
       "6      0ed0b59b-a799-4503-87bb-fb9723c4633d         NaN       NaN   \n",
       "...                                     ...         ...       ...   \n",
       "80827  afd0ebd8-de8c-41b4-8a40-037538f6c003         NaN       NaN   \n",
       "80836  0375346f-a8d5-4ca3-8502-8846cc333d67         NaN      True   \n",
       "80863  db54d3ea-b0a3-4d00-b33c-bbb63a5bf571         NaN       NaN   \n",
       "80864  db54d3ea-b0a3-4d00-b33c-bbb63a5bf571         NaN       NaN   \n",
       "80879  c925dc43-2801-4365-badf-73c672959352         NaN      True   \n",
       "\n",
       "                                BORROWER_ID INCLUDERENTALAMOUNTMONTHLYTDS   \n",
       "0      4050056a-2897-4587-8e90-7dd4cb49cec6                           NaN  \\\n",
       "3      a45fe05c-07b8-499f-8746-2cc2634dd864                           NaN   \n",
       "4      26a89b13-7b68-4a12-a539-12c5b4538b75                           NaN   \n",
       "5      329af794-9997-4d21-95db-863080582826                           NaN   \n",
       "6      de2c739a-b3e0-4712-80d0-427ec9cd553a                           NaN   \n",
       "...                                     ...                           ...   \n",
       "80827  f4e353ae-f1bf-400d-8504-f1aed20bc873                           NaN   \n",
       "80836  a19c1a0a-b0cc-41dd-b977-d4b4c1d76128                           NaN   \n",
       "80863  42daeb84-c6e4-451d-bc3e-96adb3916e62                           NaN   \n",
       "80864  7c21cdf3-2ad6-40c6-898a-f7d7557f888a                           NaN   \n",
       "80879  6f50edd5-c0ad-461b-9715-b24dab9109c1                           NaN   \n",
       "\n",
       "       ISHIDDEN  ISMAINBORROWER  MARITAL RELATIONSHIPTOMAINBORROWER   \n",
       "0         False            True      NaN                        NaN  \\\n",
       "3         False            True      NaN                        NaN   \n",
       "4         False            True      NaN                        NaN   \n",
       "5         False            True      NaN                        NaN   \n",
       "6         False            True      NaN                        NaN   \n",
       "...         ...             ...      ...                        ...   \n",
       "80827     False            True  married                        NaN   \n",
       "80836     False            True  married                        NaN   \n",
       "80863     False            True  married                        NaN   \n",
       "80864     False           False  married                     spouse   \n",
       "80879     False            True   single                        NaN   \n",
       "\n",
       "       RENTALAMOUNTMONTHLY  \n",
       "0                      NaN  \n",
       "3                      NaN  \n",
       "4                      NaN  \n",
       "5                      NaN  \n",
       "6                      NaN  \n",
       "...                    ...  \n",
       "80827                  NaN  \n",
       "80836               1800.0  \n",
       "80863                  NaN  \n",
       "80864                  NaN  \n",
       "80879                  NaN  \n",
       "\n",
       "[34526 rows x 10 columns]"
      ]
     },
     "execution_count": 13,
     "metadata": {},
     "output_type": "execute_result"
    }
   ],
   "source": [
    "borrowers[borrowers['DEPENDENTS'].isnull()]"
   ]
  },
  {
   "cell_type": "code",
   "execution_count": 14,
   "metadata": {},
   "outputs": [],
   "source": [
    "borrowers['DEPENDENTS'].replace(\"NaN\", 0, inplace=True)"
   ]
  },
  {
   "cell_type": "code",
   "execution_count": 15,
   "metadata": {},
   "outputs": [
    {
     "data": {
      "text/plain": [
       "DEPENDENTS\n",
       "0.0     25920\n",
       "2.0      8666\n",
       "1.0      7352\n",
       "3.0      3135\n",
       "4.0       890\n",
       "5.0       253\n",
       "6.0        85\n",
       "7.0        23\n",
       "8.0        15\n",
       "10.0       10\n",
       "9.0         7\n",
       "Name: count, dtype: int64"
      ]
     },
     "execution_count": 15,
     "metadata": {},
     "output_type": "execute_result"
    }
   ],
   "source": [
    "borrowers['DEPENDENTS'].value_counts()"
   ]
  },
  {
   "cell_type": "code",
   "execution_count": 16,
   "metadata": {},
   "outputs": [
    {
     "data": {
      "text/plain": [
       "FIRSTTIME\n",
       "True     15125\n",
       "False    11024\n",
       "Name: count, dtype: int64"
      ]
     },
     "execution_count": 16,
     "metadata": {},
     "output_type": "execute_result"
    }
   ],
   "source": [
    "borrowers['FIRSTTIME'].value_counts()"
   ]
  },
  {
   "cell_type": "code",
   "execution_count": 17,
   "metadata": {},
   "outputs": [],
   "source": [
    "borrowers['FIRSTTIME'].replace(\"NaN\", \"Unknown\", inplace=True)"
   ]
  },
  {
   "cell_type": "code",
   "execution_count": 18,
   "metadata": {},
   "outputs": [
    {
     "data": {
      "text/plain": [
       "MARITAL\n",
       "married       33780\n",
       "single        10251\n",
       "common_law     5073\n",
       "divorced       1741\n",
       "separated      1450\n",
       "widowed         762\n",
       "Name: count, dtype: int64"
      ]
     },
     "execution_count": 18,
     "metadata": {},
     "output_type": "execute_result"
    }
   ],
   "source": [
    "borrowers['MARITAL'].value_counts()"
   ]
  },
  {
   "cell_type": "code",
   "execution_count": 19,
   "metadata": {},
   "outputs": [],
   "source": [
    "borrowers['MARITAL'].replace(\"NaN\", \"Unknown\", inplace=True)"
   ]
  },
  {
   "cell_type": "code",
   "execution_count": 20,
   "metadata": {},
   "outputs": [],
   "source": [
    "borrowers['RELATIONSHIPTOMAINBORROWER'].replace(\"NaN\", \"Unknown\", inplace=True)"
   ]
  },
  {
   "cell_type": "code",
   "execution_count": 21,
   "metadata": {},
   "outputs": [
    {
     "data": {
      "text/plain": [
       "INCLUDERENTALAMOUNTMONTHLYTDS\n",
       "False    1777\n",
       "True      352\n",
       "Name: count, dtype: int64"
      ]
     },
     "execution_count": 21,
     "metadata": {},
     "output_type": "execute_result"
    }
   ],
   "source": [
    "borrowers['INCLUDERENTALAMOUNTMONTHLYTDS'].value_counts()"
   ]
  },
  {
   "cell_type": "code",
   "execution_count": 22,
   "metadata": {},
   "outputs": [],
   "source": [
    "borrowers['INCLUDERENTALAMOUNTMONTHLYTDS'].replace(\"NaN\", \"Unknown\", inplace=True)"
   ]
  },
  {
   "cell_type": "code",
   "execution_count": 23,
   "metadata": {},
   "outputs": [],
   "source": [
    "borrowers['RENTALAMOUNTMONTHLY'].replace(\"NaN\", 0, inplace=True)"
   ]
  },
  {
   "cell_type": "code",
   "execution_count": null,
   "metadata": {},
   "outputs": [],
   "source": [
    "# Fetch records where value <=100 , value contains no of rental amount too which are not as important as count\n",
    "Insignificant_rentalmonthlyamount = borrowers[borrowers['RENTALAMOUNTMONTHLY'] <= 100].index"
   ]
  },
  {
   "cell_type": "code",
   "execution_count": 29,
   "metadata": {},
   "outputs": [
    {
     "data": {
      "text/plain": [
       "173"
      ]
     },
     "execution_count": 29,
     "metadata": {},
     "output_type": "execute_result"
    }
   ],
   "source": [
    "len(Insignificant_rentalmonthlyamount)"
   ]
  },
  {
   "cell_type": "code",
   "execution_count": 30,
   "metadata": {},
   "outputs": [],
   "source": [
    "borrowers.drop(Insignificant_rentalmonthlyamount, inplace=True)"
   ]
  },
  {
   "cell_type": "code",
   "execution_count": null,
   "metadata": {},
   "outputs": [],
   "source": []
  }
 ],
 "metadata": {
  "kernelspec": {
   "display_name": "Python 3",
   "language": "python",
   "name": "python3"
  },
  "language_info": {
   "codemirror_mode": {
    "name": "ipython",
    "version": 3
   },
   "file_extension": ".py",
   "mimetype": "text/x-python",
   "name": "python",
   "nbconvert_exporter": "python",
   "pygments_lexer": "ipython3",
   "version": "3.8.10"
  }
 },
 "nbformat": 4,
 "nbformat_minor": 2
}
